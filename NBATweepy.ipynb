{
 "cells": [
  {
   "cell_type": "markdown",
   "metadata": {},
   "source": [
    "<h1>NBA Twitter</h1>"
   ]
  },
  {
   "cell_type": "markdown",
   "metadata": {},
   "source": [
    "<h2>Boilerplate module imports and variable initializations</h2>"
   ]
  },
  {
   "cell_type": "code",
   "execution_count": 1,
   "metadata": {},
   "outputs": [],
   "source": [
    "import tweepy\n",
    "from Resources import twitteruser,twitterpass,mysqlstr\n",
    "import json\n",
    "import ast\n",
    "import pandas as pd\n",
    "from pprint import pprint\n",
    "from datetime import datetime as dt\n",
    "from datetime import timedelta\n",
    "\n",
    "#must run \"pip install nba_api\" in terminal\n",
    "from nba_api.stats.endpoints import playergamelog\n",
    "\n",
    "# Data for Twitter API call\n",
    "auth = tweepy.OAuthHandler(twitteruser, twitterpass)\n"
   ]
  },
  {
   "cell_type": "code",
   "execution_count": 2,
   "metadata": {},
   "outputs": [],
   "source": [
    "from sqlalchemy import create_engine, inspect\n",
    "import pymysql\n",
    "import sqlalchemy\n",
    "from sqlalchemy.ext.automap import automap_base\n",
    "from sqlalchemy.orm import Session\n",
    "\n",
    "pymysql.install_as_MySQLdb()\n",
    "\n",
    "engine = create_engine(mysqlstr)\n",
    "conn = engine.connect()"
   ]
  },
  {
   "cell_type": "markdown",
   "metadata": {},
   "source": [
    "<h2>Define function to import player data and format for running APIs</h2>"
   ]
  },
  {
   "cell_type": "code",
   "execution_count": 3,
   "metadata": {},
   "outputs": [],
   "source": [
    "def importdata():\n",
    "    \n",
    "# Data file from Kaggle\n",
    "    playerstatsfile = \"nba_2016_2017_100.csv\"\n",
    "    playerstats_df = pd.read_csv(playerstatsfile, encoding=\"ISO-8859-1\")\n",
    "    \n",
    "# Select relevent columns\n",
    "    playerstats_trimmed_df = playerstats_df[[\"PLAYER_ID\",\"PLAYER_NAME\", \"TEAM_ABBREVIATION\",\"TWITTER_HANDLE\",\"ACTIVE_TWITTER_LAST_YEAR\"]]\n",
    "\n",
    "# re-idex the data according to PlAYER_ID    \n",
    "    playerstats_trimmed_df = playerstats_trimmed_df.set_index('PLAYER_ID')\n",
    "    playerstats_trimmed_df.to_csv(\"playerstats_trimmed_df.csv\", index=False, header=True)\n",
    "    \n",
    "# Remove players who do not have a listed Twitter Handle\n",
    "    playerstats_trimmed_df = playerstats_trimmed_df.loc[playerstats_trimmed_df['TWITTER_HANDLE']!='0',:]\n",
    "    \n",
    "# Send cleaned data to mysql environment\n",
    "    playerstats_trimmed_df.to_sql('playerstats', conn, if_exists='append')"
   ]
  },
  {
   "cell_type": "markdown",
   "metadata": {},
   "source": [
    "<h2>Initialize SQL database</h2>"
   ]
  },
  {
   "cell_type": "code",
   "execution_count": 3,
   "metadata": {},
   "outputs": [
    {
     "name": "stderr",
     "output_type": "stream",
     "text": [
      "C:\\Users\\nsneed\\Anaconda3\\envs\\PythonData\\lib\\site-packages\\sqlalchemy\\ext\\declarative\\clsregistry.py:120: SAWarning: This declarative base already contains a class with the same class name and module name as sqlalchemy.ext.automap.player_game_stats, and will be replaced in the string-lookup table.\n",
      "  item.__name__\n",
      "C:\\Users\\nsneed\\Anaconda3\\envs\\PythonData\\lib\\site-packages\\sqlalchemy\\ext\\declarative\\clsregistry.py:120: SAWarning: This declarative base already contains a class with the same class name and module name as sqlalchemy.ext.automap.player_mentions, and will be replaced in the string-lookup table.\n",
      "  item.__name__\n",
      "C:\\Users\\nsneed\\Anaconda3\\envs\\PythonData\\lib\\site-packages\\sqlalchemy\\ext\\declarative\\clsregistry.py:120: SAWarning: This declarative base already contains a class with the same class name and module name as sqlalchemy.ext.automap.playerstats, and will be replaced in the string-lookup table.\n",
      "  item.__name__\n"
     ]
    }
   ],
   "source": [
    "Base = automap_base()\n",
    "\n",
    "# Pull exisating tables from mysql environment\n",
    "Base.prepare(engine, reflect=True)\n",
    "mytables = Base.classes.keys()\n",
    "\n",
    "# If tables don't already exist, create them/modify environment\n",
    "if 'playerstats' not in mytables:\n",
    "    engine.execute(\"CREATE TABLE playerstats (PLAYER_ID bigint(20) NOT NULL,PLAYER_NAME text,TEAM_ABBREVIATION text,TWITTER_HANDLE text,ACTIVE_TWITTER_LAST_YEAR bigint(20) DEFAULT NULL,  PRIMARY KEY (PLAYER_ID))\")\n",
    "    importdata()\n",
    "if 'player_game_stats' not in mytables:\n",
    "    engine.execute(\"CREATE TABLE player_game_stats (PLAYER_ID bigint(20) NOT NULL,GAME_DATE date NOT NULL,WL text,PTS bigint(20) DEFAULT NULL,PLUS_MINUS bigint(20) DEFAULT NULL, PRIMARY KEY (PLAYER_ID,GAME_DATE))\")\n",
    "if 'player_mentions' not in mytables:\n",
    "    engine.execute(\"CREATE TABLE player_mentions (CREATE_DATE date,CREATE_TIME text,TWITTER_USER text,RETWEETS bigint(20) DEFAULT NULL,FAVORITES bigint(20) DEFAULT NULL,PLAYER_ID bigint(20) NOT NULL,TWEETID bigint(20) NOT NULL, PRIMARY KEY (PLAYER_ID,TWEETID))\")\n",
    "\n",
    "# Re-pull potentially modified mysql environment   \n",
    "Base.prepare(engine, reflect=True)\n",
    "\n",
    "# Pull player list from Bridge Table\n",
    "players = Base.classes.playerstats\n",
    "session = Session(engine) \n",
    "\n",
    "    "
   ]
  },
  {
   "cell_type": "markdown",
   "metadata": {},
   "source": [
    "<h2>Initialize Date variables </h2>"
   ]
  },
  {
   "cell_type": "code",
   "execution_count": 4,
   "metadata": {},
   "outputs": [],
   "source": [
    "# Update today's & yesterday's date\n",
    "todaydash = (dt.today()).strftime('%Y-%m-%d')\n",
    "todayslash = (dt.today()).strftime('%m/%d/%Y')\n",
    "yesterdaydash = (dt.today() - timedelta(1)).strftime('%Y-%m-%d')\n",
    "yesterdayslash = (dt.today() - timedelta(1)).strftime('%m/%d/%Y')"
   ]
  },
  {
   "cell_type": "markdown",
   "metadata": {},
   "source": [
    "<h2>Run the API against the cleaned stat table</h2>"
   ]
  },
  {
   "cell_type": "code",
   "execution_count": 6,
   "metadata": {},
   "outputs": [
    {
     "data": {
      "text/html": [
       "<div>\n",
       "<style scoped>\n",
       "    .dataframe tbody tr th:only-of-type {\n",
       "        vertical-align: middle;\n",
       "    }\n",
       "\n",
       "    .dataframe tbody tr th {\n",
       "        vertical-align: top;\n",
       "    }\n",
       "\n",
       "    .dataframe thead th {\n",
       "        text-align: right;\n",
       "    }\n",
       "</style>\n",
       "<table border=\"1\" class=\"dataframe\">\n",
       "  <thead>\n",
       "    <tr style=\"text-align: right;\">\n",
       "      <th></th>\n",
       "      <th></th>\n",
       "      <th>Create_Date</th>\n",
       "      <th>Create_Time</th>\n",
       "      <th>TWITTER_USER</th>\n",
       "      <th>Retweets</th>\n",
       "      <th>Favorites</th>\n",
       "    </tr>\n",
       "    <tr>\n",
       "      <th>PLAYER_ID</th>\n",
       "      <th>TweetID</th>\n",
       "      <th></th>\n",
       "      <th></th>\n",
       "      <th></th>\n",
       "      <th></th>\n",
       "      <th></th>\n",
       "    </tr>\n",
       "  </thead>\n",
       "  <tbody>\n",
       "    <tr>\n",
       "      <th rowspan=\"5\" valign=\"top\">1627848</th>\n",
       "      <th>1076176531154554880</th>\n",
       "      <td>2018-12-21</td>\n",
       "      <td>18:04:14</td>\n",
       "      <td>NZ_Orlena</td>\n",
       "      <td>0</td>\n",
       "      <td>1</td>\n",
       "    </tr>\n",
       "    <tr>\n",
       "      <th>1076175985081409536</th>\n",
       "      <td>2018-12-21</td>\n",
       "      <td>18:02:03</td>\n",
       "      <td>NefKev</td>\n",
       "      <td>0</td>\n",
       "      <td>1</td>\n",
       "    </tr>\n",
       "    <tr>\n",
       "      <th>1076175259223568384</th>\n",
       "      <td>2018-12-21</td>\n",
       "      <td>17:59:10</td>\n",
       "      <td>NZ_Orlena</td>\n",
       "      <td>0</td>\n",
       "      <td>1</td>\n",
       "    </tr>\n",
       "    <tr>\n",
       "      <th>1076124349336354817</th>\n",
       "      <td>2018-12-21</td>\n",
       "      <td>14:36:52</td>\n",
       "      <td>Mr_Cajun1234</td>\n",
       "      <td>0</td>\n",
       "      <td>0</td>\n",
       "    </tr>\n",
       "    <tr>\n",
       "      <th>1076108537120649221</th>\n",
       "      <td>2018-12-21</td>\n",
       "      <td>13:34:03</td>\n",
       "      <td>AlmightySmoove</td>\n",
       "      <td>0</td>\n",
       "      <td>3</td>\n",
       "    </tr>\n",
       "  </tbody>\n",
       "</table>\n",
       "</div>"
      ],
      "text/plain": [
       "                              Create_Date Create_Time    TWITTER_USER  \\\n",
       "PLAYER_ID TweetID                                                       \n",
       "1627848   1076176531154554880  2018-12-21    18:04:14       NZ_Orlena   \n",
       "          1076175985081409536  2018-12-21    18:02:03          NefKev   \n",
       "          1076175259223568384  2018-12-21    17:59:10       NZ_Orlena   \n",
       "          1076124349336354817  2018-12-21    14:36:52    Mr_Cajun1234   \n",
       "          1076108537120649221  2018-12-21    13:34:03  AlmightySmoove   \n",
       "\n",
       "                               Retweets  Favorites  \n",
       "PLAYER_ID TweetID                                   \n",
       "1627848   1076176531154554880         0          1  \n",
       "          1076175985081409536         0          1  \n",
       "          1076175259223568384         0          1  \n",
       "          1076124349336354817         0          0  \n",
       "          1076108537120649221         0          3  "
      ]
     },
     "execution_count": 6,
     "metadata": {},
     "output_type": "execute_result"
    }
   ],
   "source": [
    "api = tweepy.API(auth, wait_on_rate_limit=True)\n",
    "page_count = 0\n",
    "\n",
    "\n",
    "\n",
    "\n",
    "clear_player_mention_str = f\"Delete from player_mentions where CREATE_DATE='{yesterdaydash}'\"\n",
    "\n",
    "#delete any previously loaded data for this day\n",
    "engine.execute(clear_player_mention_str)\n",
    "\n",
    "# Initialize query from bridge table, pull in current player\n",
    "for player in session.query(players.PLAYER_ID,players.TWITTER_HANDLE).all():\n",
    "    TweetDay=[]\n",
    "    TweetTime=[]\n",
    "    user=[]\n",
    "    retweetcount=[]\n",
    "    favoritecount=[]\n",
    "    playerid=[]\n",
    "    text=[]\n",
    "    TweetID=[]\n",
    "    q = '@' + str(player[1])\n",
    "    q = q + '-filter:retweets'\n",
    "\n",
    "\n",
    "# Run Twitter API for all tweets from current player above\n",
    "    for tweets in tweepy.Cursor(api.search,q=q,count=100,result_type=\"recent\",include_entities=True,since= yesterdaydash, until= todaydash).pages():\n",
    "# For each tweet, pull all relevant data\n",
    "        for tweet in tweets:\n",
    "            mystr = json.dumps(tweet._json)\n",
    "            mydict = json.loads(mystr)\n",
    "            Createtime=dt.strptime(mydict['created_at'],'%a %b %d %H:%M:%S %z %Y')\n",
    "            TweetDay.append(Createtime.strftime('%Y-%m-%d'))\n",
    "            TweetTime.append(Createtime.strftime('%H:%M:%S'))\n",
    "            TweetID.append(mydict['id'])               \n",
    "            user.append(mydict['user']['screen_name'])\n",
    "            retweetcount.append(mydict['retweet_count'])\n",
    "            favoritecount.append(mydict['favorite_count'])\n",
    "            playerid.append(player[0])\n",
    "            text.append(mydict['text'])\n",
    "    df = pd.DataFrame({'Create_Date':TweetDay,'Create_Time':TweetTime, 'TWITTER_USER':user,'Retweets':retweetcount,'Favorites':favoritecount,  'PLAYER_ID':playerid,  'TweetID':TweetID})\n",
    "    df.set_index(['PLAYER_ID','TweetID'], inplace=True)\n",
    "    \n",
    "#Send pulled data to local sql environment\n",
    "    \n",
    "    df.to_sql('player_mentions', conn, if_exists='append')\n",
    "    \n",
    "#display sample results    \n",
    "df.head()\n",
    " \n",
    "            \n"
   ]
  },
  {
   "cell_type": "markdown",
   "metadata": {},
   "source": [
    "<h2>Run the game data API</h2>"
   ]
  },
  {
   "cell_type": "code",
   "execution_count": null,
   "metadata": {},
   "outputs": [
    {
     "name": "stderr",
     "output_type": "stream",
     "text": [
      "C:\\Users\\nsneed\\Anaconda3\\envs\\PythonData\\lib\\site-packages\\ipykernel_launcher.py:12: SettingWithCopyWarning: \n",
      "A value is trying to be set on a copy of a slice from a DataFrame.\n",
      "Try using .loc[row_indexer,col_indexer] = value instead\n",
      "\n",
      "See the caveats in the documentation: http://pandas.pydata.org/pandas-docs/stable/indexing.html#indexing-view-versus-copy\n",
      "  if sys.path[0] == '':\n"
     ]
    }
   ],
   "source": [
    "#delete any previously loaded data for this day\n",
    "player_game_stats_str = f\"Delete from player_game_stats where GAME_DATE='{yesterdaydash}'\"\n",
    "engine.execute(player_game_stats_str)\n",
    "\n",
    "# for each player in the list, find all game data for previous day\n",
    "for player in session.query(players.PLAYER_ID,players.TWITTER_HANDLE).all():\n",
    "    PGL = playergamelog.PlayerGameLog(player[0],date_from_nullable=yesterdayslash,date_to_nullable=todayslash)\n",
    "    df2 = PGL.get_data_frames()[0]\n",
    "    \n",
    "#standardize pulled data\n",
    "    Playerstats = df2[['Player_ID','GAME_DATE','WL','PTS','PLUS_MINUS']]\n",
    "    Playerstats['GAME_DATE']=pd.to_datetime(Playerstats['GAME_DATE'], format='%b %d, %Y')\n",
    "    Playerstats = Playerstats.rename(index=str, columns={'Player_ID':'PLAYER_ID'})\n",
    "    Playerstats.set_index(['PLAYER_ID', 'GAME_DATE'], inplace=True)\n",
    "\n",
    "#Send pulled data to local sql environment\n",
    "    Playerstats.to_sql('player_game_stats',conn,if_exists='append')       \n",
    "    \n"
   ]
  },
  {
   "cell_type": "markdown",
   "metadata": {},
   "source": [
    "<h2>Sample data pull from Mysql environment</h2>"
   ]
  },
  {
   "cell_type": "code",
   "execution_count": 5,
   "metadata": {},
   "outputs": [
    {
     "data": {
      "text/html": [
       "<div>\n",
       "<style scoped>\n",
       "    .dataframe tbody tr th:only-of-type {\n",
       "        vertical-align: middle;\n",
       "    }\n",
       "\n",
       "    .dataframe tbody tr th {\n",
       "        vertical-align: top;\n",
       "    }\n",
       "\n",
       "    .dataframe thead th {\n",
       "        text-align: right;\n",
       "    }\n",
       "</style>\n",
       "<table border=\"1\" class=\"dataframe\">\n",
       "  <thead>\n",
       "    <tr style=\"text-align: right;\">\n",
       "      <th></th>\n",
       "      <th>PLAYER_ID</th>\n",
       "      <th>GAME_DATE</th>\n",
       "      <th>WL</th>\n",
       "      <th>PTS</th>\n",
       "      <th>PLUS_MINUS</th>\n",
       "    </tr>\n",
       "  </thead>\n",
       "  <tbody>\n",
       "    <tr>\n",
       "      <th>0</th>\n",
       "      <td>1717</td>\n",
       "      <td>2018-12-20</td>\n",
       "      <td>L</td>\n",
       "      <td>0</td>\n",
       "      <td>-9</td>\n",
       "    </tr>\n",
       "    <tr>\n",
       "      <th>1</th>\n",
       "      <td>2199</td>\n",
       "      <td>2018-12-21</td>\n",
       "      <td>W</td>\n",
       "      <td>2</td>\n",
       "      <td>-7</td>\n",
       "    </tr>\n",
       "    <tr>\n",
       "      <th>2</th>\n",
       "      <td>2544</td>\n",
       "      <td>2018-12-21</td>\n",
       "      <td>W</td>\n",
       "      <td>22</td>\n",
       "      <td>13</td>\n",
       "    </tr>\n",
       "    <tr>\n",
       "      <th>3</th>\n",
       "      <td>2548</td>\n",
       "      <td>2018-12-20</td>\n",
       "      <td>W</td>\n",
       "      <td>10</td>\n",
       "      <td>-6</td>\n",
       "    </tr>\n",
       "    <tr>\n",
       "      <th>4</th>\n",
       "      <td>101108</td>\n",
       "      <td>2018-12-20</td>\n",
       "      <td>L</td>\n",
       "      <td>4</td>\n",
       "      <td>-3</td>\n",
       "    </tr>\n",
       "    <tr>\n",
       "      <th>5</th>\n",
       "      <td>101150</td>\n",
       "      <td>2018-12-20</td>\n",
       "      <td>W</td>\n",
       "      <td>26</td>\n",
       "      <td>13</td>\n",
       "    </tr>\n",
       "  </tbody>\n",
       "</table>\n",
       "</div>"
      ],
      "text/plain": [
       "   PLAYER_ID   GAME_DATE WL  PTS  PLUS_MINUS\n",
       "0       1717  2018-12-20  L    0          -9\n",
       "1       2199  2018-12-21  W    2          -7\n",
       "2       2544  2018-12-21  W   22          13\n",
       "3       2548  2018-12-20  W   10          -6\n",
       "4     101108  2018-12-20  L    4          -3\n",
       "5     101150  2018-12-20  W   26          13"
      ]
     },
     "execution_count": 5,
     "metadata": {},
     "output_type": "execute_result"
    }
   ],
   "source": [
    "PlayerGameData = pd.read_sql('Select * from player_game_stats', conn)\n",
    "PlayerGameData.head()"
   ]
  },
  {
   "cell_type": "code",
   "execution_count": null,
   "metadata": {},
   "outputs": [],
   "source": []
  }
 ],
 "metadata": {
  "kernelspec": {
   "display_name": "Python 3",
   "language": "python",
   "name": "python3"
  },
  "language_info": {
   "codemirror_mode": {
    "name": "ipython",
    "version": 3
   },
   "file_extension": ".py",
   "mimetype": "text/x-python",
   "name": "python",
   "nbconvert_exporter": "python",
   "pygments_lexer": "ipython3",
   "version": "3.6.6"
  }
 },
 "nbformat": 4,
 "nbformat_minor": 2
}
